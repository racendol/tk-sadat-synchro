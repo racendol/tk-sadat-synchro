{
  "nbformat": 4,
  "nbformat_minor": 0,
  "metadata": {
    "colab": {
      "name": "tk-sadat-synchrogazers.ipynb",
      "provenance": [],
      "include_colab_link": true
    },
    "kernelspec": {
      "name": "python3",
      "display_name": "Python 3"
    },
    "language_info": {
      "name": "python"
    }
  },
  "cells": [
    {
      "cell_type": "markdown",
      "metadata": {
        "id": "view-in-github",
        "colab_type": "text"
      },
      "source": [
        "<a href=\"https://colab.research.google.com/github/racendol/tk-sadat-synchro/blob/main/tk_sadat_synchrogazers.ipynb\" target=\"_parent\"><img src=\"https://colab.research.google.com/assets/colab-badge.svg\" alt=\"Open In Colab\"/></a>"
      ]
    },
    {
      "cell_type": "code",
      "metadata": {
        "id": "aAabRbOLnnxm"
      },
      "source": [
        "import pandas as pd\n",
        "import numpy as np\n",
        "\n",
        "import matplotlib.pyplot as plt\n",
        "import seaborn as sns\n",
        "import scipy.stats as scp\n",
        "import plotly.express as px\n",
        "\n",
        "from sklearn.preprocessing import LabelEncoder, Normalizer, StandardScaler\n",
        "from sklearn.model_selection import train_test_split\n",
        "from sklearn.cluster import KMeans, AgglomerativeClustering\n",
        "from scipy.cluster.hierarchy import dendrogram, linkage\n",
        "from sklearn.neighbors import NearestCentroid\n",
        "\n",
        "from sklearn.metrics import mean_squared_error as mse\n",
        "from sklearn.metrics import mean_absolute_error as mea\n",
        "from sklearn.metrics import accuracy_score, f1_score, precision_score, recall_score, classification_report\n",
        "\n",
        "from statsmodels.regression.linear_model import OLS"
      ],
      "execution_count": null,
      "outputs": []
    },
    {
      "cell_type": "markdown",
      "metadata": {
        "id": "5Gr5MHOJrfo8"
      },
      "source": [
        "# New Section"
      ]
    },
    {
      "cell_type": "code",
      "metadata": {
        "colab": {
          "base_uri": "https://localhost:8080/",
          "height": 965
        },
        "id": "dsSrPrCYrhFo",
        "outputId": "37528cdb-d224-46f5-b59c-f8ec133d088c"
      },
      "source": [
        "df = pd.read_csv('/content/drive/MyDrive/sadat/League_of_Legends.csv')\n",
        "df"
      ],
      "execution_count": null,
      "outputs": [
        {
          "output_type": "execute_result",
          "data": {
            "text/html": [
              "<div>\n",
              "<style scoped>\n",
              "    .dataframe tbody tr th:only-of-type {\n",
              "        vertical-align: middle;\n",
              "    }\n",
              "\n",
              "    .dataframe tbody tr th {\n",
              "        vertical-align: top;\n",
              "    }\n",
              "\n",
              "    .dataframe thead th {\n",
              "        text-align: right;\n",
              "    }\n",
              "</style>\n",
              "<table border=\"1\" class=\"dataframe\">\n",
              "  <thead>\n",
              "    <tr style=\"text-align: right;\">\n",
              "      <th></th>\n",
              "      <th>League</th>\n",
              "      <th>Year</th>\n",
              "      <th>Season</th>\n",
              "      <th>Type</th>\n",
              "      <th>blueTeamTag</th>\n",
              "      <th>blueResult</th>\n",
              "      <th>redResult</th>\n",
              "      <th>redTeamTag</th>\n",
              "      <th>blueTopChamp</th>\n",
              "      <th>blueJungleChamp</th>\n",
              "      <th>blueMiddleChamp</th>\n",
              "      <th>blueADCChamp</th>\n",
              "      <th>blueSupportChamp</th>\n",
              "      <th>blueBans</th>\n",
              "      <th>redTopChamp</th>\n",
              "      <th>redJungleChamp</th>\n",
              "      <th>redMiddleChamp</th>\n",
              "      <th>redADCChamp</th>\n",
              "      <th>redSupportChamp</th>\n",
              "      <th>redBans</th>\n",
              "    </tr>\n",
              "  </thead>\n",
              "  <tbody>\n",
              "    <tr>\n",
              "      <th>0</th>\n",
              "      <td>NALCS</td>\n",
              "      <td>2015</td>\n",
              "      <td>Spring</td>\n",
              "      <td>Season</td>\n",
              "      <td>TSM</td>\n",
              "      <td>1</td>\n",
              "      <td>0</td>\n",
              "      <td>C9</td>\n",
              "      <td>Irelia</td>\n",
              "      <td>RekSai</td>\n",
              "      <td>Ahri</td>\n",
              "      <td>Jinx</td>\n",
              "      <td>Janna</td>\n",
              "      <td>Rumble, Kassadin, Lissandra</td>\n",
              "      <td>Gnar</td>\n",
              "      <td>Elise</td>\n",
              "      <td>Fizz</td>\n",
              "      <td>Sivir</td>\n",
              "      <td>Thresh</td>\n",
              "      <td>Tristana, Leblanc, Nidalee</td>\n",
              "    </tr>\n",
              "    <tr>\n",
              "      <th>1</th>\n",
              "      <td>NALCS</td>\n",
              "      <td>2015</td>\n",
              "      <td>Spring</td>\n",
              "      <td>Season</td>\n",
              "      <td>CST</td>\n",
              "      <td>0</td>\n",
              "      <td>1</td>\n",
              "      <td>DIG</td>\n",
              "      <td>Gnar</td>\n",
              "      <td>Rengar</td>\n",
              "      <td>Ahri</td>\n",
              "      <td>Caitlyn</td>\n",
              "      <td>Leona</td>\n",
              "      <td>Kassadin, Sivir, Lissandra</td>\n",
              "      <td>Irelia</td>\n",
              "      <td>JarvanIV</td>\n",
              "      <td>Azir</td>\n",
              "      <td>Corki</td>\n",
              "      <td>Annie</td>\n",
              "      <td>RekSai, Janna, Leblanc</td>\n",
              "    </tr>\n",
              "    <tr>\n",
              "      <th>2</th>\n",
              "      <td>NALCS</td>\n",
              "      <td>2015</td>\n",
              "      <td>Spring</td>\n",
              "      <td>Season</td>\n",
              "      <td>WFX</td>\n",
              "      <td>1</td>\n",
              "      <td>0</td>\n",
              "      <td>GV</td>\n",
              "      <td>Renekton</td>\n",
              "      <td>Rengar</td>\n",
              "      <td>Fizz</td>\n",
              "      <td>Sivir</td>\n",
              "      <td>Annie</td>\n",
              "      <td>JarvanIV, Lissandra, Kassadin</td>\n",
              "      <td>Sion</td>\n",
              "      <td>LeeSin</td>\n",
              "      <td>Azir</td>\n",
              "      <td>Corki</td>\n",
              "      <td>Janna</td>\n",
              "      <td>Leblanc, Zed, RekSai</td>\n",
              "    </tr>\n",
              "    <tr>\n",
              "      <th>3</th>\n",
              "      <td>NALCS</td>\n",
              "      <td>2015</td>\n",
              "      <td>Spring</td>\n",
              "      <td>Season</td>\n",
              "      <td>TIP</td>\n",
              "      <td>0</td>\n",
              "      <td>1</td>\n",
              "      <td>TL</td>\n",
              "      <td>Irelia</td>\n",
              "      <td>JarvanIV</td>\n",
              "      <td>Leblanc</td>\n",
              "      <td>Sivir</td>\n",
              "      <td>Thresh</td>\n",
              "      <td>Annie, Lissandra, Kassadin</td>\n",
              "      <td>Gnar</td>\n",
              "      <td>Nunu</td>\n",
              "      <td>Lulu</td>\n",
              "      <td>KogMaw</td>\n",
              "      <td>Janna</td>\n",
              "      <td>RekSai, Rumble, LeeSin</td>\n",
              "    </tr>\n",
              "    <tr>\n",
              "      <th>4</th>\n",
              "      <td>NALCS</td>\n",
              "      <td>2015</td>\n",
              "      <td>Spring</td>\n",
              "      <td>Season</td>\n",
              "      <td>CLG</td>\n",
              "      <td>1</td>\n",
              "      <td>0</td>\n",
              "      <td>T8</td>\n",
              "      <td>Gnar</td>\n",
              "      <td>JarvanIV</td>\n",
              "      <td>Lissandra</td>\n",
              "      <td>Tristana</td>\n",
              "      <td>Janna</td>\n",
              "      <td>Irelia, Pantheon, Kassadin</td>\n",
              "      <td>Sion</td>\n",
              "      <td>RekSai</td>\n",
              "      <td>Lulu</td>\n",
              "      <td>Corki</td>\n",
              "      <td>Annie</td>\n",
              "      <td>Rumble, Sivir, Rengar</td>\n",
              "    </tr>\n",
              "    <tr>\n",
              "      <th>...</th>\n",
              "      <td>...</td>\n",
              "      <td>...</td>\n",
              "      <td>...</td>\n",
              "      <td>...</td>\n",
              "      <td>...</td>\n",
              "      <td>...</td>\n",
              "      <td>...</td>\n",
              "      <td>...</td>\n",
              "      <td>...</td>\n",
              "      <td>...</td>\n",
              "      <td>...</td>\n",
              "      <td>...</td>\n",
              "      <td>...</td>\n",
              "      <td>...</td>\n",
              "      <td>...</td>\n",
              "      <td>...</td>\n",
              "      <td>...</td>\n",
              "      <td>...</td>\n",
              "      <td>...</td>\n",
              "      <td>...</td>\n",
              "    </tr>\n",
              "    <tr>\n",
              "      <th>7615</th>\n",
              "      <td>TCL</td>\n",
              "      <td>2018</td>\n",
              "      <td>Spring</td>\n",
              "      <td>Season</td>\n",
              "      <td>YC</td>\n",
              "      <td>0</td>\n",
              "      <td>1</td>\n",
              "      <td>SUP</td>\n",
              "      <td>Camille</td>\n",
              "      <td>JarvanIV</td>\n",
              "      <td>Galio</td>\n",
              "      <td>Tristana</td>\n",
              "      <td>Braum</td>\n",
              "      <td>Ezreal, Sejuani, Azir, Cassiopeia, Corki</td>\n",
              "      <td>Chogath</td>\n",
              "      <td>XinZhao</td>\n",
              "      <td>Veigar</td>\n",
              "      <td>Xayah</td>\n",
              "      <td>Rakan</td>\n",
              "      <td>Ornn, Kalista, Ryze, Alistar, Shen</td>\n",
              "    </tr>\n",
              "    <tr>\n",
              "      <th>7616</th>\n",
              "      <td>TCL</td>\n",
              "      <td>2018</td>\n",
              "      <td>Spring</td>\n",
              "      <td>Season</td>\n",
              "      <td>GAL</td>\n",
              "      <td>0</td>\n",
              "      <td>1</td>\n",
              "      <td>DP</td>\n",
              "      <td>Nasus</td>\n",
              "      <td>Khazix</td>\n",
              "      <td>Malzahar</td>\n",
              "      <td>Kalista</td>\n",
              "      <td>TahmKench</td>\n",
              "      <td>Gangplank, Sejuani, Azir, Gnar, Zac</td>\n",
              "      <td>Chogath</td>\n",
              "      <td>Ivern</td>\n",
              "      <td>Ryze</td>\n",
              "      <td>Caitlyn</td>\n",
              "      <td>Braum</td>\n",
              "      <td>Zoe, KogMaw, JarvanIV, Ornn, Rengar</td>\n",
              "    </tr>\n",
              "    <tr>\n",
              "      <th>7617</th>\n",
              "      <td>OPL</td>\n",
              "      <td>2018</td>\n",
              "      <td>Spring</td>\n",
              "      <td>Season</td>\n",
              "      <td>SIN</td>\n",
              "      <td>0</td>\n",
              "      <td>1</td>\n",
              "      <td>DW</td>\n",
              "      <td>Camille</td>\n",
              "      <td>JarvanIV</td>\n",
              "      <td>Cassiopeia</td>\n",
              "      <td>Varus</td>\n",
              "      <td>Janna</td>\n",
              "      <td>TahmKench, KogMaw, Shen, Sejuani, Shyvana</td>\n",
              "      <td>Gangplank</td>\n",
              "      <td>Evelynn</td>\n",
              "      <td>Malzahar</td>\n",
              "      <td>Ezreal</td>\n",
              "      <td>Taric</td>\n",
              "      <td>Azir, Kalista, Braum, Maokai, Alistar</td>\n",
              "    </tr>\n",
              "    <tr>\n",
              "      <th>7618</th>\n",
              "      <td>OPL</td>\n",
              "      <td>2018</td>\n",
              "      <td>Spring</td>\n",
              "      <td>Season</td>\n",
              "      <td>LGC</td>\n",
              "      <td>1</td>\n",
              "      <td>0</td>\n",
              "      <td>TTC</td>\n",
              "      <td>Ornn</td>\n",
              "      <td>Khazix</td>\n",
              "      <td>Azir</td>\n",
              "      <td>Ezreal</td>\n",
              "      <td>Braum</td>\n",
              "      <td>KogMaw, Illaoi, Urgot, Xerath, Karma</td>\n",
              "      <td>Gangplank</td>\n",
              "      <td>JarvanIV</td>\n",
              "      <td>Veigar</td>\n",
              "      <td>Sivir</td>\n",
              "      <td>Janna</td>\n",
              "      <td>Kalista, Galio, Gnar, Jayce, Sejuani</td>\n",
              "    </tr>\n",
              "    <tr>\n",
              "      <th>7619</th>\n",
              "      <td>OPL</td>\n",
              "      <td>2018</td>\n",
              "      <td>Spring</td>\n",
              "      <td>Season</td>\n",
              "      <td>TTC</td>\n",
              "      <td>0</td>\n",
              "      <td>1</td>\n",
              "      <td>LGC</td>\n",
              "      <td>Gangplank</td>\n",
              "      <td>Zac</td>\n",
              "      <td>Cassiopeia</td>\n",
              "      <td>Ezreal</td>\n",
              "      <td>Shen</td>\n",
              "      <td>Kalista, Gnar, Ryze, Orianna, Sivir</td>\n",
              "      <td>Ornn</td>\n",
              "      <td>JarvanIV</td>\n",
              "      <td>Malzahar</td>\n",
              "      <td>Vayne</td>\n",
              "      <td>Braum</td>\n",
              "      <td>KogMaw, Illaoi, Azir, Karma, Sejuani</td>\n",
              "    </tr>\n",
              "  </tbody>\n",
              "</table>\n",
              "<p>7620 rows × 20 columns</p>\n",
              "</div>"
            ],
            "text/plain": [
              "     League  Year  ... redSupportChamp                                redBans\n",
              "0     NALCS  2015  ...          Thresh             Tristana, Leblanc, Nidalee\n",
              "1     NALCS  2015  ...           Annie                 RekSai, Janna, Leblanc\n",
              "2     NALCS  2015  ...           Janna                   Leblanc, Zed, RekSai\n",
              "3     NALCS  2015  ...           Janna                 RekSai, Rumble, LeeSin\n",
              "4     NALCS  2015  ...           Annie                  Rumble, Sivir, Rengar\n",
              "...     ...   ...  ...             ...                                    ...\n",
              "7615    TCL  2018  ...           Rakan     Ornn, Kalista, Ryze, Alistar, Shen\n",
              "7616    TCL  2018  ...           Braum    Zoe, KogMaw, JarvanIV, Ornn, Rengar\n",
              "7617    OPL  2018  ...           Taric  Azir, Kalista, Braum, Maokai, Alistar\n",
              "7618    OPL  2018  ...           Janna   Kalista, Galio, Gnar, Jayce, Sejuani\n",
              "7619    OPL  2018  ...           Braum   KogMaw, Illaoi, Azir, Karma, Sejuani\n",
              "\n",
              "[7620 rows x 20 columns]"
            ]
          },
          "metadata": {
            "tags": []
          },
          "execution_count": 6
        }
      ]
    },
    {
      "cell_type": "code",
      "metadata": {
        "id": "bxxqi3jkri_R",
        "colab": {
          "base_uri": "https://localhost:8080/",
          "height": 297
        },
        "outputId": "20d00c43-2841-4686-c383-e7901fbe7c0b"
      },
      "source": [
        "sns.countplot(x=df.blueResult)"
      ],
      "execution_count": null,
      "outputs": [
        {
          "output_type": "execute_result",
          "data": {
            "text/plain": [
              "<matplotlib.axes._subplots.AxesSubplot at 0x7f931d49aa10>"
            ]
          },
          "metadata": {
            "tags": []
          },
          "execution_count": 7
        },
        {
          "output_type": "display_data",
          "data": {
            "image/png": "[encoded data removed]",
            "text/plain": [
              "<Figure size 432x288 with 1 Axes>"
            ]
          },
          "metadata": {
            "tags": [],
            "needs_background": "light"
          }
        }
      ]
    },
    {
      "cell_type": "code",
      "metadata": {
        "id": "8Yinbg0hr1aC",
        "colab": {
          "base_uri": "https://localhost:8080/",
          "height": 297
        },
        "outputId": "b78431b6-b2df-4179-88ea-d13dc11d15c4"
      },
      "source": [
        "sns.countplot(x=df.redResult)"
      ],
      "execution_count": null,
      "outputs": [
        {
          "output_type": "execute_result",
          "data": {
            "text/plain": [
              "<matplotlib.axes._subplots.AxesSubplot at 0x7f931d392650>"
            ]
          },
          "metadata": {
            "tags": []
          },
          "execution_count": 8
        },
        {
          "output_type": "display_data",
          "data": {
            "image/png": "[encoded data removed]",
            "text/plain": [
              "<Figure size 432x288 with 1 Axes>"
            ]
          },
          "metadata": {
            "tags": [],
            "needs_background": "light"
          }
        }
      ]
    },
    {
      "cell_type": "code",
      "metadata": {
        "id": "wms4pdIqtdnW",
        "colab": {
          "base_uri": "https://localhost:8080/",
          "height": 297
        },
        "outputId": "5f6cdc77-5541-4b4f-ab5c-4609c1a23477"
      },
      "source": [
        "sns.countplot(x=df.Year)"
      ],
      "execution_count": null,
      "outputs": [
        {
          "output_type": "execute_result",
          "data": {
            "text/plain": [
              "<matplotlib.axes._subplots.AxesSubplot at 0x7f931ce879d0>"
            ]
          },
          "metadata": {
            "tags": []
          },
          "execution_count": 10
        },
        {
          "output_type": "display_data",
          "data": {
            "image/png": "[encoded data removed]",
            "text/plain": [
              "<Figure size 432x288 with 1 Axes>"
            ]
          },
          "metadata": {
            "tags": [],
            "needs_background": "light"
          }
        }
      ]
    },
    {
      "cell_type": "code",
      "metadata": {
        "id": "SlWMlyRFs7iR",
        "colab": {
          "base_uri": "https://localhost:8080/",
          "height": 297
        },
        "outputId": "9c4521b7-f974-4bae-f802-55cd92b9d62f"
      },
      "source": [
        "sns.countplot(x=df.blueTopChamp, hue=df.Year, order=df.blueTopChamp.value_counts()[:5].keys())"
      ],
      "execution_count": null,
      "outputs": [
        {
          "output_type": "execute_result",
          "data": {
            "text/plain": [
              "<matplotlib.axes._subplots.AxesSubplot at 0x7f931cededd0>"
            ]
          },
          "metadata": {
            "tags": []
          },
          "execution_count": 9
        },
        {
          "output_type": "display_data",
          "data": {
            "image/png": "[encoded data removed]",
            "text/plain": [
              "<Figure size 432x288 with 1 Axes>"
            ]
          },
          "metadata": {
            "tags": [],
            "needs_background": "light"
          }
        }
      ]
    },
    {
      "cell_type": "code",
      "metadata": {
        "colab": {
          "base_uri": "https://localhost:8080/",
          "height": 300
        },
        "id": "C9Kmwoqxz3-W",
        "outputId": "666bf63b-7155-4d75-b7f5-80af46c2c974"
      },
      "source": [
        "sns.countplot(x=df.redTopChamp, hue=df.Year, order=df.redTopChamp.value_counts()[:5].keys())"
      ],
      "execution_count": null,
      "outputs": [
        {
          "output_type": "execute_result",
          "data": {
            "text/plain": [
              "<matplotlib.axes._subplots.AxesSubplot at 0x7f931b7c7e90>"
            ]
          },
          "metadata": {
            "tags": []
          },
          "execution_count": 18
        },
        {
          "output_type": "display_data",
          "data": {
            "image/png": "[encoded data removed]",
            "text/plain": [
              "<Figure size 432x288 with 1 Axes>"
            ]
          },
          "metadata": {
            "tags": [],
            "needs_background": "light"
          }
        }
      ]
    },
    {
      "cell_type": "code",
      "metadata": {
        "colab": {
          "base_uri": "https://localhost:8080/",
          "height": 297
        },
        "id": "-03LETu20Ckv",
        "outputId": "e73850f1-cb38-4b32-fd7c-c0e67e7f43bc"
      },
      "source": [
        "sns.countplot(x=df.blueMiddleChamp, hue=df.Year, order=df.blueMiddleChamp.value_counts()[:5].keys())"
      ],
      "execution_count": null,
      "outputs": [
        {
          "output_type": "execute_result",
          "data": {
            "text/plain": [
              "<matplotlib.axes._subplots.AxesSubplot at 0x7f931b5aded0>"
            ]
          },
          "metadata": {
            "tags": []
          },
          "execution_count": 20
        },
        {
          "output_type": "display_data",
          "data": {
            "image/png": "[encoded data removed]",
            "text/plain": [
              "<Figure size 432x288 with 1 Axes>"
            ]
          },
          "metadata": {
            "tags": [],
            "needs_background": "light"
          }
        }
      ]
    },
    {
      "cell_type": "code",
      "metadata": {
        "colab": {
          "base_uri": "https://localhost:8080/",
          "height": 297
        },
        "id": "3eyhZ7WS0Nlj",
        "outputId": "784ba2e6-326f-4385-8993-c401efaee033"
      },
      "source": [
        "sns.countplot(x=df.blueJungleChamp, hue=df.Year, order=df.blueJungleChamp.value_counts()[:5].keys())"
      ],
      "execution_count": null,
      "outputs": [
        {
          "output_type": "execute_result",
          "data": {
            "text/plain": [
              "<matplotlib.axes._subplots.AxesSubplot at 0x7f931b544e50>"
            ]
          },
          "metadata": {
            "tags": []
          },
          "execution_count": 22
        },
        {
          "output_type": "display_data",
          "data": {
            "image/png": "[encoded data removed]",
            "text/plain": [
              "<Figure size 432x288 with 1 Axes>"
            ]
          },
          "metadata": {
            "tags": [],
            "needs_background": "light"
          }
        }
      ]
    },
    {
      "cell_type": "code",
      "metadata": {
        "colab": {
          "base_uri": "https://localhost:8080/",
          "height": 297
        },
        "id": "5Jxvr0QC0NfH",
        "outputId": "f87dc5ee-63d5-43fb-a6f7-af1336ad80db"
      },
      "source": [
        "sns.countplot(x=df.blueADCChamp, hue=df.Year, order=df.blueADCChamp.value_counts()[:5].keys())"
      ],
      "execution_count": null,
      "outputs": [
        {
          "output_type": "execute_result",
          "data": {
            "text/plain": [
              "<matplotlib.axes._subplots.AxesSubplot at 0x7f931b4f23d0>"
            ]
          },
          "metadata": {
            "tags": []
          },
          "execution_count": 21
        },
        {
          "output_type": "display_data",
          "data": {
            "image/png": "[encoded data removed]",
            "text/plain": [
              "<Figure size 432x288 with 1 Axes>"
            ]
          },
          "metadata": {
            "tags": [],
            "needs_background": "light"
          }
        }
      ]
    },
    {
      "cell_type": "code",
      "metadata": {
        "colab": {
          "base_uri": "https://localhost:8080/",
          "height": 298
        },
        "id": "kg9mzFkT0M_O",
        "outputId": "4b1840b6-68ed-4b32-95b5-321b647e84f1"
      },
      "source": [
        "sns.countplot(x=df.blueSupportChamp, hue=df.Year, order=df.blueSupportChamp.value_counts()[:5].keys())"
      ],
      "execution_count": null,
      "outputs": [
        {
          "output_type": "execute_result",
          "data": {
            "text/plain": [
              "<matplotlib.axes._subplots.AxesSubplot at 0x7f931b4e0d10>"
            ]
          },
          "metadata": {
            "tags": []
          },
          "execution_count": 23
        },
        {
          "output_type": "display_data",
          "data": {
            "image/png": "[encoded data removed]",
            "text/plain": [
              "<Figure size 432x288 with 1 Axes>"
            ]
          },
          "metadata": {
            "tags": [],
            "needs_background": "light"
          }
        }
      ]
    },
    {
      "cell_type": "code",
      "metadata": {
        "id": "2g6SVSEFtwSL",
        "colab": {
          "base_uri": "https://localhost:8080/"
        },
        "outputId": "b748635c-4e95-4de2-a83e-6fc47d6dfc4b"
      },
      "source": [
        "df.isnull().sum()"
      ],
      "execution_count": null,
      "outputs": [
        {
          "output_type": "execute_result",
          "data": {
            "text/plain": [
              "League               0\n",
              "Year                 0\n",
              "Season               0\n",
              "Type                 0\n",
              "blueTeamTag         38\n",
              "blueResult           0\n",
              "redResult            0\n",
              "redTeamTag          37\n",
              "blueTopChamp         0\n",
              "blueJungleChamp      0\n",
              "blueMiddleChamp      0\n",
              "blueADCChamp         0\n",
              "blueSupportChamp     0\n",
              "blueBans            24\n",
              "redTopChamp          0\n",
              "redJungleChamp       0\n",
              "redMiddleChamp       0\n",
              "redADCChamp          0\n",
              "redSupportChamp      0\n",
              "redBans             24\n",
              "dtype: int64"
            ]
          },
          "metadata": {
            "tags": []
          },
          "execution_count": 17
        }
      ]
    },
    {
      "cell_type": "code",
      "metadata": {
        "id": "fsKP45nhyyNj"
      },
      "source": [
        ""
      ],
      "execution_count": null,
      "outputs": []
    }
  ]
}